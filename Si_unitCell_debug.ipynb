{
 "cells": [
  {
   "cell_type": "code",
   "execution_count": 1,
   "metadata": {},
   "outputs": [],
   "source": [
    "# import the necessary packages \n",
    "from wvgsolver import Cavity1D, UnitCell, Vec3, Waveguide\n",
    "from wvgsolver.geometry import BoxStructure, CylinderStructure, DielectricMaterial, MeshRegion\n",
    "from wvgsolver.utils import BBox\n",
    "from wvgsolver.engine import LumericalEngine\n",
    "\n",
    "import scipy.optimize\n",
    "import numpy as np\n",
    "import os\n",
    "from datetime import datetime\n",
    "\n",
    "from waveguideSolver_funcs import *\n",
    "from cavity_sim_parameters import *\n"
   ]
  },
  {
   "cell_type": "markdown",
   "metadata": {},
   "source": [
    "# rib unit cells"
   ]
  },
  {
   "cell_type": "code",
   "execution_count": 4,
   "metadata": {},
   "outputs": [
    {
     "name": "stdout",
     "output_type": "stream",
     "text": [
      "Starting sim ===================================\n",
      "True\n",
      "True\n",
      "True\n",
      "True\n",
      "True\n",
      "--------\n",
      "Duration: 0:05:00.571048\n",
      "Lower band edge frequency: 185.549855 THz\n",
      "Higher band edge frequency: 300.869009 THz\n",
      "Bandgap ratio: 47.415576 percent\n",
      "Midgap frequency: 243.209432 THz\n",
      "Delta k: 0.175504 \n",
      "\n",
      "\n"
     ]
    },
    {
     "data": {
      "text/plain": [
       "(185549855498555.0,\n",
       " 300869008690086.9,\n",
       " 243209432094320.94,\n",
       " 0.47415576031939854,\n",
       " 0.17550442682545575,\n",
       " 115319153191531.88)"
      ]
     },
     "execution_count": 4,
     "metadata": {},
     "output_type": "execute_result"
    }
   ],
   "source": [
    "# debugging\n",
    "rib_sim_params = cavity_sim_parameters.rib_sim_params\n",
    "rib_cavity_params = cavity_sim_parameters.rib_cavity_params\n",
    "rib_cavity_params['a'] = 4e-7\n",
    "rib_cavity_params['spine_width'] = 300e-9\n",
    "rib_sim_params[\"save_fsps\"] = False\n",
    "rib_sim_params[\"hide_GUI\"] = True\n",
    "rib_sim_params['running_cluster'] = False\n",
    "rib_sim_params['running_local'] = True\n",
    "sim_bandGap_rib(rib_cavity_params,rib_sim_params)\n"
   ]
  },
  {
   "cell_type": "markdown",
   "metadata": {},
   "source": [
    "# Holely unit cells"
   ]
  },
  {
   "cell_type": "code",
   "execution_count": 5,
   "metadata": {},
   "outputs": [
    {
     "name": "stdout",
     "output_type": "stream",
     "text": [
      "Starting sim ===================================\n",
      "True\n",
      "True\n",
      "True\n",
      "True\n",
      "True\n",
      "--------\n",
      "Duration: 0:04:56.516159\n",
      "Lower band edge frequency: 228.260283 THz\n",
      "Higher band edge frequency: 261.565116 THz\n",
      "Bandgap ratio: 13.598655 percent\n",
      "Midgap frequency: 244.912699 THz\n",
      "Delta k: 0.160325 \n",
      "\n",
      "\n"
     ]
    },
    {
     "data": {
      "text/plain": [
       "(228260282602826.03,\n",
       " 261565115651156.5,\n",
       " 244912699126991.25,\n",
       " 0.13598655017501304,\n",
       " 0.16032454870912954,\n",
       " 33304833048330.47)"
      ]
     },
     "execution_count": 5,
     "metadata": {},
     "output_type": "execute_result"
    }
   ],
   "source": [
    "# debugging\n",
    "holely_sim_params = cavity_sim_parameters.sim_params\n",
    "holey_cavity_params = cavity_sim_parameters.cavity_params\n",
    "holely_a = (346.5e-9)*1.2\n",
    "hole_radius = 96e-9\n",
    "thickness = 220e-9\n",
    "beam_width = 284.3e-9\n",
    "n_f = 3.5\n",
    "holey_cavity_params['a'] = holely_a\n",
    "holey_cavity_params['hx'] = hole_radius\n",
    "holey_cavity_params['hy'] = hole_radius\n",
    "holey_cavity_params['thickness'] = thickness\n",
    "holey_cavity_params['beam_width'] = beam_width\n",
    "holely_sim_params[\"save_fsps\"] = False\n",
    "holely_sim_params[\"hide_GUI\"] = True\n",
    "holely_sim_params['running_cluster'] = False\n",
    "holely_sim_params['running_local'] = True\n",
    "engine, mesh = setup_engine(holely_sim_params)\n",
    "sim_bandGap_elliptical(holely_a,hole_radius,hole_radius,beam_width,thickness,n_f,engine)"
   ]
  },
  {
   "cell_type": "code",
   "execution_count": null,
   "metadata": {},
   "outputs": [],
   "source": []
  }
 ],
 "metadata": {
  "kernelspec": {
   "display_name": "wv_sol_env",
   "language": "python",
   "name": "python3"
  },
  "language_info": {
   "codemirror_mode": {
    "name": "ipython",
    "version": 3
   },
   "file_extension": ".py",
   "mimetype": "text/x-python",
   "name": "python",
   "nbconvert_exporter": "python",
   "pygments_lexer": "ipython3",
   "version": "3.11.4"
  }
 },
 "nbformat": 4,
 "nbformat_minor": 2
}
