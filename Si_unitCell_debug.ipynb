{
 "cells": [
  {
   "cell_type": "code",
   "execution_count": 1,
   "metadata": {},
   "outputs": [],
   "source": [
    "# import the necessary packages \n",
    "from wvgsolver import Cavity1D, UnitCell, Vec3, Waveguide\n",
    "from wvgsolver.geometry import BoxStructure, CylinderStructure, DielectricMaterial, MeshRegion\n",
    "from wvgsolver.utils import BBox\n",
    "from wvgsolver.engine import LumericalEngine\n",
    "\n",
    "import scipy.optimize\n",
    "import numpy as np\n",
    "import os\n",
    "from datetime import datetime\n",
    "\n",
    "from waveguideSolver_funcs import *\n",
    "from cavity_sim_parameters import *\n"
   ]
  },
  {
   "cell_type": "markdown",
   "metadata": {},
   "source": [
    "# rib unit cells"
   ]
  },
  {
   "cell_type": "code",
   "execution_count": 4,
   "metadata": {},
   "outputs": [
    {
     "name": "stdout",
     "output_type": "stream",
     "text": [
      "Starting sim ===================================\n",
      "True\n",
      "True\n",
      "True\n",
      "True\n",
      "True\n",
      "--------\n",
      "Duration: 0:05:00.571048\n",
      "Lower band edge frequency: 185.549855 THz\n",
      "Higher band edge frequency: 300.869009 THz\n",
      "Bandgap ratio: 47.415576 percent\n",
      "Midgap frequency: 243.209432 THz\n",
      "Delta k: 0.175504 \n",
      "\n",
      "\n"
     ]
    },
    {
     "data": {
      "text/plain": [
       "(185549855498555.0,\n",
       " 300869008690086.9,\n",
       " 243209432094320.94,\n",
       " 0.47415576031939854,\n",
       " 0.17550442682545575,\n",
       " 115319153191531.88)"
      ]
     },
     "execution_count": 4,
     "metadata": {},
     "output_type": "execute_result"
    }
   ],
   "source": [
    "# debugging\n",
    "rib_sim_params = cavity_sim_parameters.rib_sim_params\n",
    "rib_cavity_params = cavity_sim_parameters.rib_cavity_params\n",
    "rib_cavity_params['a'] = 4e-7\n",
    "rib_cavity_params['spine_width'] = 300e-9\n",
    "rib_sim_params[\"save_fsps\"] = False\n",
    "rib_sim_params[\"hide_GUI\"] = True\n",
    "rib_sim_params['running_cluster'] = False\n",
    "rib_sim_params['running_local'] = True\n",
    "sim_bandGap_rib(rib_cavity_params,rib_sim_params)\n"
   ]
  },
  {
   "cell_type": "markdown",
   "metadata": {},
   "source": [
    "# Holely unit cells"
   ]
  },
  {
   "cell_type": "code",
   "execution_count": 2,
   "metadata": {},
   "outputs": [
    {
     "name": "stdout",
     "output_type": "stream",
     "text": [
      "Starting sim ===================================\n",
      "True\n",
      "True\n",
      "True\n",
      "True\n",
      "True\n"
     ]
    },
    {
     "ename": "IndexError",
     "evalue": "index 1 is out of bounds for axis 0 with size 1",
     "output_type": "error",
     "traceback": [
      "\u001b[1;31m---------------------------------------------------------------------------\u001b[0m",
      "\u001b[1;31mIndexError\u001b[0m                                Traceback (most recent call last)",
      "Cell \u001b[1;32mIn[2], line 20\u001b[0m\n\u001b[0;32m     18\u001b[0m holely_sim_params[\u001b[39m'\u001b[39m\u001b[39mrunning_local\u001b[39m\u001b[39m'\u001b[39m] \u001b[39m=\u001b[39m \u001b[39mTrue\u001b[39;00m\n\u001b[0;32m     19\u001b[0m engine, mesh \u001b[39m=\u001b[39m setup_engine(holely_sim_params)\n\u001b[1;32m---> 20\u001b[0m sim_bandGap_elliptical(holely_a,hx,hy,beam_width,thickness,n_f,engine)\n",
      "File \u001b[1;32mc:\\Users\\cjin\\Documents\\waveguide_SiC_sim\\waveguideSolver_funcs.py:213\u001b[0m, in \u001b[0;36msim_bandGap_elliptical\u001b[1;34m(a, hx, hy, w0, h0, n_f, engine)\u001b[0m\n\u001b[0;32m    210\u001b[0m start_time \u001b[39m=\u001b[39m datetime\u001b[39m.\u001b[39mnow()\n\u001b[0;32m    211\u001b[0m cell \u001b[39m=\u001b[39m buildUnitCell_elliptical_v1(a,hx,hy,w0,h0,n_f,engine)\n\u001b[1;32m--> 213\u001b[0m r2 \u001b[39m=\u001b[39m cell\u001b[39m.\u001b[39;49msimulate(\u001b[39m\"\u001b[39;49m\u001b[39mbandgap\u001b[39;49m\u001b[39m\"\u001b[39;49m, freqs\u001b[39m=\u001b[39;49m(\u001b[39m0.05e15\u001b[39;49m, \u001b[39m0.5e15\u001b[39;49m, \u001b[39m100000\u001b[39;49m))\n\u001b[0;32m    215\u001b[0m diel_freq \u001b[39m=\u001b[39m r2[\u001b[39m0\u001b[39m] \u001b[39m# the dielectric band frequency \u001b[39;00m\n\u001b[0;32m    216\u001b[0m air_freq \u001b[39m=\u001b[39m r2[\u001b[39m1\u001b[39m] \u001b[39m# the air band frequyency \u001b[39;00m\n",
      "File \u001b[1;32mc:\\Users\\cjin\\Documents\\waveguide_SiC_sim\\wvgsolver\\simulation\\base.py:305\u001b[0m, in \u001b[0;36mSimulationObject.simulate\u001b[1;34m(self, t, save, mesh_regions, **kwargs)\u001b[0m\n\u001b[0;32m    302\u001b[0m   \u001b[39mself\u001b[39m\u001b[39m.\u001b[39msave(\u001b[39mself\u001b[39m\u001b[39m.\u001b[39msave_path)\n\u001b[0;32m    304\u001b[0m \u001b[39mif\u001b[39;00m err \u001b[39mis\u001b[39;00m \u001b[39mnot\u001b[39;00m \u001b[39mNone\u001b[39;00m:\n\u001b[1;32m--> 305\u001b[0m   \u001b[39mraise\u001b[39;00m err\n\u001b[0;32m    307\u001b[0m \u001b[39mreturn\u001b[39;00m res\n",
      "File \u001b[1;32mc:\\Users\\cjin\\Documents\\waveguide_SiC_sim\\wvgsolver\\simulation\\base.py:277\u001b[0m, in \u001b[0;36mSimulationObject.simulate\u001b[1;34m(self, t, save, mesh_regions, **kwargs)\u001b[0m\n\u001b[0;32m    274\u001b[0m     args\u001b[39m.\u001b[39mappend(session)\n\u001b[0;32m    275\u001b[0m     \u001b[39mself\u001b[39m\u001b[39m.\u001b[39msession \u001b[39m=\u001b[39m session\n\u001b[1;32m--> 277\u001b[0m   res \u001b[39m=\u001b[39m \u001b[39mgetattr\u001b[39;49m(\u001b[39mself\u001b[39;49m, sim_type)(\u001b[39m*\u001b[39;49margs, \u001b[39m*\u001b[39;49m\u001b[39m*\u001b[39;49mkwargs)\n\u001b[0;32m    278\u001b[0m \u001b[39mexcept\u001b[39;00m \u001b[39mException\u001b[39;00m \u001b[39mas\u001b[39;00m e:\n\u001b[0;32m    279\u001b[0m   err \u001b[39m=\u001b[39m e\n",
      "File \u001b[1;32mc:\\Users\\cjin\\Documents\\waveguide_SiC_sim\\wvgsolver\\simulation\\objects.py:112\u001b[0m, in \u001b[0;36mUnitCell._simulate_bandgap\u001b[1;34m(self, sess, freqs, min_gap, k, **kwargs)\u001b[0m\n\u001b[0;32m    103\u001b[0m \u001b[39m#np.savetxt(\"freqs.txt\",freqs)\u001b[39;00m\n\u001b[0;32m    104\u001b[0m \u001b[39m#np.savetxt(\"res.txt\",res)\u001b[39;00m\n\u001b[0;32m    105\u001b[0m \n\u001b[1;32m   (...)\u001b[0m\n\u001b[0;32m    109\u001b[0m \n\u001b[0;32m    110\u001b[0m \u001b[39m#first = freqs[np.argmax(res)]\u001b[39;00m\n\u001b[0;32m    111\u001b[0m first \u001b[39m=\u001b[39m freqs[peaks[\u001b[39m0\u001b[39m]]\n\u001b[1;32m--> 112\u001b[0m second \u001b[39m=\u001b[39m freqs[peaks[\u001b[39m1\u001b[39;49m]]\n\u001b[0;32m    114\u001b[0m \u001b[39m#bottom_ceil = max(0, int((first - min_gap - freqs[0]) * len(freqs)/(freqs[-1] - freqs[0])))\u001b[39;00m\n\u001b[0;32m    115\u001b[0m \u001b[39m#top_floor = min(len(freqs)-1, int((first + min_gap - freqs[0]) * len(freqs)/(freqs[-1] - freqs[0])))\u001b[39;00m\n\u001b[0;32m    116\u001b[0m \u001b[39m#if np.max(res[:bottom_ceil+1]) > np.max(res[top_floor:]):\u001b[39;00m\n\u001b[1;32m   (...)\u001b[0m\n\u001b[0;32m    121\u001b[0m \u001b[39m#if first > second:\u001b[39;00m\n\u001b[0;32m    122\u001b[0m \u001b[39m#  return second, first\u001b[39;00m\n\u001b[0;32m    123\u001b[0m \u001b[39mreturn\u001b[39;00m first, second\n",
      "\u001b[1;31mIndexError\u001b[0m: index 1 is out of bounds for axis 0 with size 1"
     ]
    }
   ],
   "source": [
    "# debugging\n",
    "holely_sim_params = cavity_sim_parameters.sim_params\n",
    "holey_cavity_params = cavity_sim_parameters.cavity_params\n",
    "holely_a = (436e-9)\n",
    "hx = (165-9)/2\n",
    "hy = (366-9)/2\n",
    "thickness = 220e-9\n",
    "beam_width = 529e-9\n",
    "n_f = 3.5\n",
    "holey_cavity_params['a'] = holely_a\n",
    "holey_cavity_params['hx'] = hx\n",
    "holey_cavity_params['hy'] = hy\n",
    "holey_cavity_params['thickness'] = thickness\n",
    "holey_cavity_params['beam_width'] = beam_width\n",
    "holely_sim_params[\"save_fsps\"] = False\n",
    "holely_sim_params[\"hide_GUI\"] = False\n",
    "holely_sim_params['running_cluster'] = False\n",
    "holely_sim_params['running_local'] = True\n",
    "engine, mesh = setup_engine(holely_sim_params)\n",
    "sim_bandGap_elliptical(holely_a,hx,hy,beam_width,thickness,n_f,engine)"
   ]
  },
  {
   "cell_type": "code",
   "execution_count": null,
   "metadata": {},
   "outputs": [],
   "source": []
  }
 ],
 "metadata": {
  "kernelspec": {
   "display_name": "wv_sol_env",
   "language": "python",
   "name": "python3"
  },
  "language_info": {
   "codemirror_mode": {
    "name": "ipython",
    "version": 3
   },
   "file_extension": ".py",
   "mimetype": "text/x-python",
   "name": "python",
   "nbconvert_exporter": "python",
   "pygments_lexer": "ipython3",
   "version": "3.11.4"
  }
 },
 "nbformat": 4,
 "nbformat_minor": 2
}
