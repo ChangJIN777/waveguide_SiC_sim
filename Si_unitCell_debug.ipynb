{
 "cells": [
  {
   "cell_type": "code",
   "execution_count": 1,
   "metadata": {},
   "outputs": [],
   "source": [
    "# import the necessary packages \n",
    "from wvgsolver import Cavity1D, UnitCell, Vec3, Waveguide\n",
    "from wvgsolver.geometry import BoxStructure, CylinderStructure, DielectricMaterial, MeshRegion\n",
    "from wvgsolver.utils import BBox\n",
    "from wvgsolver.engine import LumericalEngine\n",
    "\n",
    "import scipy.optimize\n",
    "import numpy as np\n",
    "import os\n",
    "from datetime import datetime\n",
    "\n",
    "from waveguideSolver_funcs import *\n",
    "from cavity_sim_parameters import *\n"
   ]
  },
  {
   "cell_type": "code",
   "execution_count": 2,
   "metadata": {},
   "outputs": [
    {
     "name": "stdout",
     "output_type": "stream",
     "text": [
      "Starting sim ===================================\n",
      "True\n",
      "True\n",
      "True\n",
      "True\n",
      "True\n",
      "--------\n",
      "Duration: 0:04:03.390710\n",
      "Lower band edge frequency: 282.983830 THz\n",
      "Higher band edge frequency: 337.874879 THz\n",
      "Bandgap ratio: 17.682300 percent\n",
      "Midgap frequency: 310.429354 THz\n",
      "Delta k: 0.189364 \n",
      "\n",
      "\n"
     ]
    },
    {
     "data": {
      "text/plain": [
       "(282983829838298.4,\n",
       " 337874878748787.5,\n",
       " 310429354293542.94,\n",
       " 0.17682299741081825,\n",
       " 0.1893635547429524,\n",
       " 54891048910489.125)"
      ]
     },
     "execution_count": 2,
     "metadata": {},
     "output_type": "execute_result"
    }
   ],
   "source": [
    "# debugging\n",
    "sim_params = cavity_sim_parameters.rib_sim_params\n",
    "cavity_params = cavity_sim_parameters.rib_cavity_params\n",
    "cavity_params['a'] = 1.5e-7\n",
    "sim_params[\"save_fsps\"] = False\n",
    "sim_params[\"hide_GUI\"] = True\n",
    "sim_params['running_cluster'] = False\n",
    "sim_params['running_local'] = True\n",
    "sim_bandGap_rib(cavity_params,sim_params)\n"
   ]
  },
  {
   "cell_type": "code",
   "execution_count": null,
   "metadata": {},
   "outputs": [],
   "source": []
  }
 ],
 "metadata": {
  "kernelspec": {
   "display_name": "wv_sol_env",
   "language": "python",
   "name": "python3"
  },
  "language_info": {
   "codemirror_mode": {
    "name": "ipython",
    "version": 3
   },
   "file_extension": ".py",
   "mimetype": "text/x-python",
   "name": "python",
   "nbconvert_exporter": "python",
   "pygments_lexer": "ipython3",
   "version": "3.11.4"
  }
 },
 "nbformat": 4,
 "nbformat_minor": 2
}
