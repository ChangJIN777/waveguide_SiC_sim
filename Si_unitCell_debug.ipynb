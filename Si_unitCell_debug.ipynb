{
 "cells": [
  {
   "cell_type": "code",
   "execution_count": 1,
   "metadata": {},
   "outputs": [],
   "source": [
    "# import the necessary packages \n",
    "from wvgsolver import Cavity1D, UnitCell, Vec3, Waveguide\n",
    "from wvgsolver.geometry import BoxStructure, CylinderStructure, DielectricMaterial, MeshRegion\n",
    "from wvgsolver.utils import BBox\n",
    "from wvgsolver.engine import LumericalEngine\n",
    "\n",
    "import scipy.optimize\n",
    "import numpy as np\n",
    "import os\n",
    "from datetime import datetime\n",
    "\n",
    "from waveguideSolver_funcs import *\n",
    "from cavity_sim_parameters import *\n"
   ]
  },
  {
   "cell_type": "code",
   "execution_count": 2,
   "metadata": {},
   "outputs": [
    {
     "name": "stdout",
     "output_type": "stream",
     "text": [
      "Starting sim ===================================\n"
     ]
    }
   ],
   "source": [
    "# debugging\n",
    "sim_params = cavity_sim_parameters.rib_sim_params\n",
    "cavity_params = cavity_sim_parameters.rib_cavity_params\n",
    "sim_params[\"save_fsps\"] = False\n",
    "sim_params[\"hide_GUI\"] = True\n",
    "sim_params['running_cluster'] = False\n",
    "sim_params['running_local'] = True\n",
    "sim_bandGap_rib(cavity_params,sim_params)\n"
   ]
  },
  {
   "cell_type": "code",
   "execution_count": null,
   "metadata": {},
   "outputs": [],
   "source": []
  }
 ],
 "metadata": {
  "kernelspec": {
   "display_name": "wv_sol_env",
   "language": "python",
   "name": "python3"
  },
  "language_info": {
   "codemirror_mode": {
    "name": "ipython",
    "version": 3
   },
   "file_extension": ".py",
   "mimetype": "text/x-python",
   "name": "python",
   "nbconvert_exporter": "python",
   "pygments_lexer": "ipython3",
   "version": "3.11.4"
  }
 },
 "nbformat": 4,
 "nbformat_minor": 2
}
