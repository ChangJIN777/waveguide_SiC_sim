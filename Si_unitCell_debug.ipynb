{
 "cells": [
  {
   "cell_type": "code",
   "execution_count": 1,
   "metadata": {},
   "outputs": [],
   "source": [
    "# import the necessary packages \n",
    "from wvgsolver import Cavity1D, UnitCell, Vec3, Waveguide\n",
    "from wvgsolver.geometry import BoxStructure, CylinderStructure, DielectricMaterial, MeshRegion\n",
    "from wvgsolver.utils import BBox\n",
    "from wvgsolver.engine import LumericalEngine\n",
    "\n",
    "import scipy.optimize\n",
    "import numpy as np\n",
    "import os\n",
    "from datetime import datetime\n",
    "\n",
    "from waveguideSolver_funcs import *\n",
    "from cavity_sim_parameters import *\n"
   ]
  },
  {
   "cell_type": "markdown",
   "metadata": {},
   "source": [
    "# rib unit cells"
   ]
  },
  {
   "cell_type": "code",
   "execution_count": 3,
   "metadata": {},
   "outputs": [
    {
     "name": "stdout",
     "output_type": "stream",
     "text": [
      "Starting sim ===================================\n",
      "True\n",
      "True\n",
      "True\n",
      "True\n",
      "True\n",
      "--------\n",
      "Duration: 0:06:06.092391\n",
      "Lower band edge frequency: 218.527185 THz\n",
      "Higher band edge frequency: 327.777278 THz\n",
      "Bandgap ratio: 39.996046 percent\n",
      "Midgap frequency: 273.152232 THz\n",
      "Delta k: -0.046669 \n",
      "\n",
      "\n"
     ]
    },
    {
     "data": {
      "text/plain": [
       "(218527185271852.72,\n",
       " 327777277772777.75,\n",
       " 273152231522315.25,\n",
       " 0.3999604612126327,\n",
       " -0.04666890898395315,\n",
       " 109250092500925.03)"
      ]
     },
     "execution_count": 3,
     "metadata": {},
     "output_type": "execute_result"
    }
   ],
   "source": [
    "# debugging\n",
    "rib_sim_params = cavity_sim_parameters.rib_sim_params\n",
    "rib_cavity_params = cavity_sim_parameters.rib_cavity_params\n",
    "rib_cavity_params['a'] = 6e-7\n",
    "rib_sim_params[\"save_fsps\"] = False\n",
    "rib_sim_params[\"hide_GUI\"] = True\n",
    "rib_sim_params['running_cluster'] = False\n",
    "rib_sim_params['running_local'] = True\n",
    "sim_bandGap_rib(rib_cavity_params,rib_sim_params)\n"
   ]
  },
  {
   "cell_type": "markdown",
   "metadata": {},
   "source": [
    "# Holely unit cells"
   ]
  },
  {
   "cell_type": "code",
   "execution_count": 4,
   "metadata": {},
   "outputs": [
    {
     "name": "stdout",
     "output_type": "stream",
     "text": [
      "Starting sim ===================================\n",
      "True\n",
      "True\n",
      "True\n",
      "True\n",
      "True\n",
      "--------\n",
      "Duration: 0:02:17.927041\n",
      "Lower band edge frequency: 279.430294 THz\n",
      "Higher band edge frequency: 411.250113 THz\n",
      "Bandgap ratio: 38.171003 percent\n",
      "Midgap frequency: 345.340203 THz\n",
      "Delta k: 0.180693 \n",
      "\n",
      "\n"
     ]
    },
    {
     "data": {
      "text/plain": [
       "(279430294302943.03,\n",
       " 411250112501125.0,\n",
       " 345340203402034.0,\n",
       " 0.3817100265175948,\n",
       " 0.1806927805769052,\n",
       " 131819818198181.97)"
      ]
     },
     "execution_count": 4,
     "metadata": {},
     "output_type": "execute_result"
    }
   ],
   "source": [
    "# debugging\n",
    "holely_sim_params = cavity_sim_parameters.sim_params\n",
    "holey_cavity_params = cavity_sim_parameters.cavity_params\n",
    "holely_a = (346.5e-9)*1.2\n",
    "hole_radius = 96e-9\n",
    "thickness = 220e-9\n",
    "beam_width = 284.3e-9\n",
    "n_f = 3.5\n",
    "holey_cavity_params['a'] = holely_a\n",
    "holey_cavity_params['hx'] = hole_radius\n",
    "holey_cavity_params['hy'] = hole_radius\n",
    "holey_cavity_params['thickness'] = thickness\n",
    "holey_cavity_params['beam_width'] = beam_width\n",
    "holely_sim_params[\"save_fsps\"] = False\n",
    "holely_sim_params[\"hide_GUI\"] = True\n",
    "holely_sim_params['running_cluster'] = False\n",
    "holely_sim_params['running_local'] = True\n",
    "engine, mesh = setup_engine(holely_sim_params)\n",
    "sim_bandGap_elliptical(holely_a,hole_radius,hole_radius,beam_width,thickness,n_f,engine)"
   ]
  },
  {
   "cell_type": "code",
   "execution_count": null,
   "metadata": {},
   "outputs": [],
   "source": []
  }
 ],
 "metadata": {
  "kernelspec": {
   "display_name": "wv_sol_env",
   "language": "python",
   "name": "python3"
  },
  "language_info": {
   "codemirror_mode": {
    "name": "ipython",
    "version": 3
   },
   "file_extension": ".py",
   "mimetype": "text/x-python",
   "name": "python",
   "nbconvert_exporter": "python",
   "pygments_lexer": "ipython3",
   "version": "3.11.4"
  }
 },
 "nbformat": 4,
 "nbformat_minor": 2
}
