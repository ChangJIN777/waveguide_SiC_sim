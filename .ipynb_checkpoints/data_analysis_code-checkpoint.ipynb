{
 "cells": [
  {
   "cell_type": "code",
   "execution_count": 20,
   "id": "40024156",
   "metadata": {},
   "outputs": [],
   "source": [
    "import numpy as np \n",
    "import matplotlib.pyplot as plt \n",
    "import pandas as pd\n",
    "import csv"
   ]
  },
  {
   "cell_type": "code",
   "execution_count": 19,
   "id": "dafe47a1",
   "metadata": {},
   "outputs": [
    {
     "name": "stdout",
     "output_type": "stream",
     "text": [
      "      [2.90e-07  6.56e-01  1.75e+00     7.00e-01]  -11615345.066623189  \\\n",
      "0    [3.045e-07    0.6560   1.75000    7.000e-01]         3.003668e+06   \n",
      "1    [2.900e-07    0.6888   1.75000    7.000e-01]        -2.437900e+06   \n",
      "2   [2.9000e-07    0.6560   1.83750   7.0000e-01]        -4.950871e+06   \n",
      "3     [2.90e-07    0.6560   1.75000     7.35e-01]        -2.803612e+06   \n",
      "4  [2.97250e-07    0.6724   1.79375  7.17500e-01]         3.039381e+07   \n",
      "\n",
      "   0.4257244066431136  333802565025650.25  \n",
      "0            0.465933        3.210374e+14  \n",
      "1            0.285032        3.273075e+14  \n",
      "2            0.475624        3.307335e+14  \n",
      "3            0.453222        3.272295e+14  \n",
      "4            0.467425        3.242745e+14  \n"
     ]
    }
   ],
   "source": [
    "# read the txt file \n",
    "sim_data = pd.read_csv(\"OptimizeListFull_2.txt\", sep=\" \")\n",
    "print(sim_data.head())"
   ]
  },
  {
   "cell_type": "code",
   "execution_count": null,
   "id": "34072e61",
   "metadata": {},
   "outputs": [],
   "source": [
    "# read the text file \n",
    "with open('OptimizeListFull_2.csv', 'r') as fd:\n",
    "    reader = csv.reader(fd)\n",
    "    for row in reader:\n",
    "        # do something"
   ]
  }
 ],
 "metadata": {
  "kernelspec": {
   "display_name": "Python 3 (ipykernel)",
   "language": "python",
   "name": "python3"
  },
  "language_info": {
   "codemirror_mode": {
    "name": "ipython",
    "version": 3
   },
   "file_extension": ".py",
   "mimetype": "text/x-python",
   "name": "python",
   "nbconvert_exporter": "python",
   "pygments_lexer": "ipython3",
   "version": "3.8.13"
  }
 },
 "nbformat": 4,
 "nbformat_minor": 5
}
